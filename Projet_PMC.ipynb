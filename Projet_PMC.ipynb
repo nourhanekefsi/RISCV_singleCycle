{
  "nbformat": 4,
  "nbformat_minor": 0,
  "metadata": {
    "colab": {
      "provenance": [],
      "gpuType": "T4",
      "authorship_tag": "ABX9TyPL1l2snXR2kjL6tP1/FzEt",
      "include_colab_link": true
    },
    "kernelspec": {
      "name": "python3",
      "display_name": "Python 3"
    },
    "language_info": {
      "name": "python"
    },
    "accelerator": "GPU"
  },
  "cells": [
    {
      "cell_type": "markdown",
      "metadata": {
        "id": "view-in-github",
        "colab_type": "text"
      },
      "source": [
        "<a href=\"https://colab.research.google.com/github/nourhanekefsi/RISCV_singleCycle/blob/master/Projet_PMC.ipynb\" target=\"_parent\"><img src=\"https://colab.research.google.com/assets/colab-badge.svg\" alt=\"Open In Colab\"/></a>"
      ]
    },
    {
      "cell_type": "code",
      "source": [
        "!python --version\n",
        "!nvcc --version\n",
        "\n",
        "# Installer l'extension CUDA pour Jupyter\n",
        "!pip install nvcc4jupyter\n",
        "%load_ext nvcc4jupyter\n"
      ],
      "metadata": {
        "colab": {
          "base_uri": "https://localhost:8080/"
        },
        "id": "-kKkfeZtsIhf",
        "outputId": "9c4f0d20-9aa8-4e1e-88ed-14c673ecc6d8"
      },
      "execution_count": 3,
      "outputs": [
        {
          "output_type": "stream",
          "name": "stdout",
          "text": [
            "Python 3.10.12\n",
            "nvcc: NVIDIA (R) Cuda compiler driver\n",
            "Copyright (c) 2005-2023 NVIDIA Corporation\n",
            "Built on Tue_Aug_15_22:02:13_PDT_2023\n",
            "Cuda compilation tools, release 12.2, V12.2.140\n",
            "Build cuda_12.2.r12.2/compiler.33191640_0\n",
            "Collecting nvcc4jupyter\n",
            "  Downloading nvcc4jupyter-1.2.1-py3-none-any.whl.metadata (5.1 kB)\n",
            "Downloading nvcc4jupyter-1.2.1-py3-none-any.whl (10 kB)\n",
            "Installing collected packages: nvcc4jupyter\n",
            "Successfully installed nvcc4jupyter-1.2.1\n",
            "Detected platform \"Colab\". Running its setup...\n",
            "Source files will be saved in \"/tmp/tmp_ewesjj_\".\n"
          ]
        }
      ]
    },
    {
      "cell_type": "code",
      "source": [
        "%%cuda\n",
        "#include <stdio.h>\n",
        "#include <stdlib.h>\n",
        "#include <time.h>\n",
        "#define STB_IMAGE_IMPLEMENTATION\n",
        "#define STB_IMAGE_WRITE_IMPLEMENTATION\n",
        "#include \"/content/stb_image.h\"\n",
        "#include \"/content/stb_image_write.h\"\n",
        "\n",
        "__global__ void thresholding(unsigned char *image, int seuil, int n, unsigned char *imageResult) {\n",
        "    int idx = threadIdx.x + blockDim.x * blockIdx.x;\n",
        "    if (idx < n) {\n",
        "        imageResult[idx] = (image[idx] < seuil) ? 0 : 255;\n",
        "    }\n",
        "}\n",
        "\n",
        "int main() {\n",
        "    clock_t start_total, end_total;\n",
        "    start_total = clock();\n",
        "\n",
        "    int width, height, channels;\n",
        "\n",
        "    unsigned char *image = stbi_load(\"/content/image-1.jpg\", &width, &height, &channels, 1);\n",
        "\n",
        "    if (image == NULL) {\n",
        "        printf(\"Erreur lors du chargement de l'image\\n\");\n",
        "        return 1;\n",
        "    }\n",
        "\n",
        "    int n = width * height;\n",
        "\n",
        "    unsigned char *h_imageResult = (unsigned char*)malloc(n * sizeof(unsigned char));\n",
        "\n",
        "    unsigned char *d_image, *d_imageResult;\n",
        "    cudaMalloc((void**)&d_image, n * sizeof(unsigned char));\n",
        "    cudaMalloc((void**)&d_imageResult, n * sizeof(unsigned char));\n",
        "\n",
        "    cudaMemcpy(d_image, image, n * sizeof(unsigned char), cudaMemcpyHostToDevice);\n",
        "\n",
        "    int seuil = 128;\n",
        "\n",
        "    int blockSize = 256;\n",
        "    int numBlocks = (n + blockSize - 1) / blockSize;\n",
        "\n",
        "    thresholding<<<numBlocks, blockSize>>>(d_image, seuil, n, d_imageResult);\n",
        "\n",
        "    cudaDeviceSynchronize();\n",
        "\n",
        "    cudaMemcpy(h_imageResult, d_imageResult, n * sizeof(unsigned char), cudaMemcpyDeviceToHost);\n",
        "    end_total = clock();\n",
        "    double total_time = ((double)(end_total - start_total)) / CLOCKS_PER_SEC;\n",
        "    printf(\"Temps total d'exécution : %.3f secondes\\n\", total_time);\n",
        "\n",
        "    stbi_write_png(\"thresholded_image.png\", width, height, 1, h_imageResult, width);\n",
        "\n",
        "    stbi_image_free(image);\n",
        "    free(h_imageResult);\n",
        "    cudaFree(d_image);\n",
        "    cudaFree(d_imageResult);\n",
        "\n",
        "    return 0;\n",
        "}\n"
      ],
      "metadata": {
        "colab": {
          "base_uri": "https://localhost:8080/"
        },
        "id": "U9WlHmmGtn3w",
        "outputId": "0b8e0fc2-7114-474a-fbf1-84117a0c68aa"
      },
      "execution_count": 9,
      "outputs": [
        {
          "output_type": "stream",
          "name": "stdout",
          "text": [
            "Temps total d'exécution : 0.204 secondes\n",
            "\n"
          ]
        }
      ]
    }
  ]
}